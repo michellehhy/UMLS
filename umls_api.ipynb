{
  "nbformat": 4,
  "nbformat_minor": 0,
  "metadata": {
    "colab": {
      "name": "umls_api.ipynb",
      "provenance": [],
      "collapsed_sections": []
    },
    "kernelspec": {
      "name": "python3",
      "display_name": "Python 3"
    },
    "language_info": {
      "name": "python"
    }
  },
  "cells": [
    {
      "cell_type": "code",
      "metadata": {
        "colab": {
          "base_uri": "https://localhost:8080/"
        },
        "id": "PhAPfUW_xDFB",
        "outputId": "c5febedf-8a42-4e62-bbaf-aec05d4837fa"
      },
      "source": [
        "pip install pyquery"
      ],
      "execution_count": 104,
      "outputs": [
        {
          "output_type": "stream",
          "text": [
            "Requirement already satisfied: pyquery in /usr/local/lib/python3.7/dist-packages (1.4.3)\n",
            "Requirement already satisfied: lxml>=2.1 in /usr/local/lib/python3.7/dist-packages (from pyquery) (4.2.6)\n",
            "Requirement already satisfied: cssselect>0.7.9 in /usr/local/lib/python3.7/dist-packages (from pyquery) (1.1.0)\n"
          ],
          "name": "stdout"
        }
      ]
    },
    {
      "cell_type": "code",
      "metadata": {
        "colab": {
          "base_uri": "https://localhost:8080/"
        },
        "id": "vqPGOuM-HCFD",
        "outputId": "ea75bd06-245c-4139-d9ce-261ce61aae06"
      },
      "source": [
        "pip install tenacity"
      ],
      "execution_count": 105,
      "outputs": [
        {
          "output_type": "stream",
          "text": [
            "Requirement already satisfied: tenacity in /usr/local/lib/python3.7/dist-packages (8.0.1)\n"
          ],
          "name": "stdout"
        }
      ]
    },
    {
      "cell_type": "code",
      "metadata": {
        "colab": {
          "base_uri": "https://localhost:8080/"
        },
        "id": "sAnT5eC8_k_2",
        "outputId": "67bb581b-7d3b-4493-eab1-ada82e676b62"
      },
      "source": [
        "pip install umls-api"
      ],
      "execution_count": 121,
      "outputs": [
        {
          "output_type": "stream",
          "text": [
            "Collecting umls-api\n",
            "  Downloading umls-api-0.1.0.tar.gz (4.6 kB)\n",
            "Requirement already satisfied: requests in /usr/local/lib/python3.7/dist-packages (from umls-api) (2.23.0)\n",
            "Requirement already satisfied: lxml in /usr/local/lib/python3.7/dist-packages (from umls-api) (4.2.6)\n",
            "Requirement already satisfied: cachetools<5.0.0,>=4.0.0 in /usr/local/lib/python3.7/dist-packages (from umls-api) (4.2.2)\n",
            "Requirement already satisfied: urllib3!=1.25.0,!=1.25.1,<1.26,>=1.21.1 in /usr/local/lib/python3.7/dist-packages (from requests->umls-api) (1.24.3)\n",
            "Requirement already satisfied: chardet<4,>=3.0.2 in /usr/local/lib/python3.7/dist-packages (from requests->umls-api) (3.0.4)\n",
            "Requirement already satisfied: idna<3,>=2.5 in /usr/local/lib/python3.7/dist-packages (from requests->umls-api) (2.10)\n",
            "Requirement already satisfied: certifi>=2017.4.17 in /usr/local/lib/python3.7/dist-packages (from requests->umls-api) (2021.5.30)\n",
            "Building wheels for collected packages: umls-api\n",
            "  Building wheel for umls-api (setup.py) ... \u001b[?25l\u001b[?25hdone\n",
            "  Created wheel for umls-api: filename=umls_api-0.1.0-py3-none-any.whl size=3408 sha256=706a6fb89f493b6bf7fdb15001abed2a50ddd3d4b1a9eabbd2ffb73da28ecb93\n",
            "  Stored in directory: /root/.cache/pip/wheels/b1/0c/16/429473df1665cab9602747448f46d5fb701bf2e9634915ea71\n",
            "Successfully built umls-api\n",
            "Installing collected packages: umls-api\n",
            "Successfully installed umls-api-0.1.0\n"
          ],
          "name": "stdout"
        }
      ]
    },
    {
      "cell_type": "code",
      "metadata": {
        "id": "vNVTNehqwzWW"
      },
      "source": [
        "import requests\n",
        "import json\n",
        "from lxml.html import fromstring\n",
        "import pyquery\n",
        "from __future__ import print_function\n",
        "import pandas as pd\n",
        "import umls_api"
      ],
      "execution_count": 5,
      "outputs": []
    },
    {
      "cell_type": "markdown",
      "metadata": {
        "id": "Lfg9FOKvPTKA"
      },
      "source": [
        "Authentication "
      ]
    },
    {
      "cell_type": "code",
      "metadata": {
        "id": "lPpOLuvUOh7Y"
      },
      "source": [
        "# uri=\"https://utslogin.nlm.nih.gov\"\n",
        "# auth_endpoint = \"/cas/v1/api-key\""
      ],
      "execution_count": 113,
      "outputs": []
    },
    {
      "cell_type": "code",
      "metadata": {
        "id": "ASwRx5f8Pci4"
      },
      "source": [
        "apikey = \"e22b627f-226b-420b-9de2-935e10ff3350\"\n",
        "service=\"http://umlsks.nlm.nih.gov\""
      ],
      "execution_count": 2,
      "outputs": []
    },
    {
      "cell_type": "code",
      "metadata": {
        "id": "pS6k73bXPbcB"
      },
      "source": [
        "def get_granting_ticket():\n",
        "     params = {'apikey': apikey}\n",
        "     h = {\"Content-type\": \"application/x-www-form-urlencoded\", \"Accept\": \"text/plain\", \"User-Agent\":\"python\" }\n",
        "     r = requests.post(\"https://utslogin.nlm.nih.gov/cas/v1/api-key\",data=params,headers=h)\n",
        "     response = fromstring(r.text)\n",
        "     tgt = response.xpath('//form/@action')[0]\n",
        "     return tgt"
      ],
      "execution_count": 3,
      "outputs": []
    },
    {
      "cell_type": "code",
      "metadata": {
        "id": "gbSuQPwVPuzn"
      },
      "source": [
        "def get_single_ticket(tgt):\n",
        "     params = {'service': service}\n",
        "     h = {\"Content-type\": \"application/x-www-form-urlencoded\", \"Accept\": \"text/plain\", \"User-Agent\":\"python\" }\n",
        "     r = requests.post(tgt,data=params,headers=h)\n",
        "     st = r.text\n",
        "     return st\n",
        "   "
      ],
      "execution_count": 4,
      "outputs": []
    },
    {
      "cell_type": "code",
      "metadata": {
        "id": "2WuU27V40wkS"
      },
      "source": [
        "def search_by_term(string):\n",
        "  version = \"2021AA\"\n",
        "  string = string\n",
        "  tgt = get_granting_ticket()\n",
        "  pageNumber=0\n",
        "\n",
        "  while True:\n",
        "    ##generate a new service ticket for each page if needed\n",
        "    ticket = get_single_ticket(tgt)\n",
        "    pageNumber += 1\n",
        "    query = {'string':string,'ticket':ticket, 'pageNumber':pageNumber}\n",
        "    r = requests.get(\"https://uts-ws.nlm.nih.gov/rest/search/\"+version,params=query)\n",
        "    r.encoding = 'utf-8'\n",
        "    items  = json.loads(r.text)\n",
        "    jsonData = items[\"result\"]\n",
        "\n",
        "    print(\"Results for page \" + str(pageNumber)+\"\\n\")\n",
        "    \n",
        "    ui_list = []\n",
        "    \n",
        "    for result in jsonData[\"results\"]:\n",
        "        \n",
        "      try:\n",
        "        print(\"ui: \" + result[\"ui\"])\n",
        "        ui_list.append(result[\"ui\"])\n",
        "      except:\n",
        "        NameError\n",
        "      try:\n",
        "        print(\"uri: \" + result[\"uri\"])\n",
        "      except:\n",
        "        NameError\n",
        "      try:\n",
        "        print(\"name: \" + result[\"name\"])\n",
        "      except:\n",
        "        NameError\n",
        "      try:\n",
        "        print(\"Source Vocabulary: \" + result[\"rootSource\"])\n",
        "      except:\n",
        "        NameError\n",
        "      \n",
        "      print(\"\\n\")\n",
        "        \n",
        "    \n",
        "    ##Either our search returned nothing, or we're at the end\n",
        "    if jsonData[\"results\"][0][\"ui\"] == \"NONE\":\n",
        "        break\n",
        "    print(\"*********\")\n",
        "\n",
        "    return ui_list \n",
        "    "
      ],
      "execution_count": 6,
      "outputs": []
    },
    {
      "cell_type": "code",
      "metadata": {
        "colab": {
          "base_uri": "https://localhost:8080/"
        },
        "id": "JoH3T9tuAURZ",
        "outputId": "5f46215d-9e58-4a0c-ca88-5690c6f8b8b1"
      },
      "source": [
        "response = []\n",
        "for i in search_by_term(\"multiple sclerosis\"):\n",
        "  r = umls_api.API(api_key = 'e22b627f-226b-420b-9de2-935e10ff3350').get_cui(cui = i)['result']['semanticTypes'][0]['name']\n",
        "  response.append(r)\n",
        "\n",
        "print(set(response))"
      ],
      "execution_count": 10,
      "outputs": [
        {
          "output_type": "stream",
          "text": [
            "Results for page 1\n",
            "\n",
            "ui: C0026769\n",
            "uri: https://uts-ws.nlm.nih.gov/rest/content/2021AA/CUI/C0026769\n",
            "name: Multiple Sclerosis\n",
            "Source Vocabulary: MTH\n",
            "\n",
            "\n",
            "ui: C0057378\n",
            "uri: https://uts-ws.nlm.nih.gov/rest/content/2021AA/CUI/C0057378\n",
            "name: demyelinating factors\n",
            "Source Vocabulary: MSH\n",
            "\n",
            "\n",
            "ui: C0235962\n",
            "uri: https://uts-ws.nlm.nih.gov/rest/content/2021AA/CUI/C0235962\n",
            "name: Multiple sclerosis aggravated\n",
            "Source Vocabulary: MDR\n",
            "\n",
            "\n",
            "ui: C0236169\n",
            "uri: https://uts-ws.nlm.nih.gov/rest/content/2021AA/CUI/C0236169\n",
            "name: Multiple sclerosis-like syndrome\n",
            "Source Vocabulary: MDR\n",
            "\n",
            "\n",
            "ui: C0270784\n",
            "uri: https://uts-ws.nlm.nih.gov/rest/content/2021AA/CUI/C0270784\n",
            "name: Multiple sclerosis of the brainstem\n",
            "Source Vocabulary: SNOMEDCT_US\n",
            "\n",
            "\n",
            "ui: C0338475\n",
            "uri: https://uts-ws.nlm.nih.gov/rest/content/2021AA/CUI/C0338475\n",
            "name: Multiple sclerosis of the spinal cord\n",
            "Source Vocabulary: SNOMEDCT_US\n",
            "\n",
            "\n",
            "ui: C0393664\n",
            "uri: https://uts-ws.nlm.nih.gov/rest/content/2021AA/CUI/C0393664\n",
            "name: Multiple Sclerosis, Acute Relapsing\n",
            "Source Vocabulary: MSH\n",
            "\n",
            "\n",
            "ui: C0393665\n",
            "uri: https://uts-ws.nlm.nih.gov/rest/content/2021AA/CUI/C0393665\n",
            "name: Multiple Sclerosis, Chronic Progressive\n",
            "Source Vocabulary: MSH\n",
            "\n",
            "\n",
            "ui: C0393666\n",
            "uri: https://uts-ws.nlm.nih.gov/rest/content/2021AA/CUI/C0393666\n",
            "name: Multiple Sclerosis, Progressive Relapsing\n",
            "Source Vocabulary: MSH\n",
            "\n",
            "\n",
            "ui: C0451246\n",
            "uri: https://uts-ws.nlm.nih.gov/rest/content/2021AA/CUI/C0451246\n",
            "name: Kurtzke multiple sclerosis rating scale\n",
            "Source Vocabulary: MTH\n",
            "\n",
            "\n",
            "ui: C0455388\n",
            "uri: https://uts-ws.nlm.nih.gov/rest/content/2021AA/CUI/C0455388\n",
            "name: FH: Multiple sclerosis\n",
            "Source Vocabulary: SNOMEDCT_US\n",
            "\n",
            "\n",
            "ui: C0581392\n",
            "uri: https://uts-ws.nlm.nih.gov/rest/content/2021AA/CUI/C0581392\n",
            "name: Exacerbation of multiple sclerosis\n",
            "Source Vocabulary: SNOMEDCT_US\n",
            "\n",
            "\n",
            "ui: C0746652\n",
            "uri: https://uts-ws.nlm.nih.gov/rest/content/2021AA/CUI/C0746652\n",
            "name: MULTIPLE SCLEROSIS ACUTE\n",
            "Source Vocabulary: CCPSS\n",
            "\n",
            "\n",
            "ui: C0751324\n",
            "uri: https://uts-ws.nlm.nih.gov/rest/content/2021AA/CUI/C0751324\n",
            "name: Multiple Sclerosis, Acute Fulminating\n",
            "Source Vocabulary: MSH\n",
            "\n",
            "\n",
            "ui: C0751964\n",
            "uri: https://uts-ws.nlm.nih.gov/rest/content/2021AA/CUI/C0751964\n",
            "name: Multiple Sclerosis, Primary Progressive\n",
            "Source Vocabulary: MSH\n",
            "\n",
            "\n",
            "ui: C0751965\n",
            "uri: https://uts-ws.nlm.nih.gov/rest/content/2021AA/CUI/C0751965\n",
            "name: Multiple Sclerosis, Secondary Progressive\n",
            "Source Vocabulary: MSH\n",
            "\n",
            "\n",
            "ui: C0751967\n",
            "uri: https://uts-ws.nlm.nih.gov/rest/content/2021AA/CUI/C0751967\n",
            "name: Multiple Sclerosis, Relapsing-Remitting\n",
            "Source Vocabulary: MSH\n",
            "\n",
            "\n",
            "ui: C0856120\n",
            "uri: https://uts-ws.nlm.nih.gov/rest/content/2021AA/CUI/C0856120\n",
            "name: Multiple sclerosis relapse\n",
            "Source Vocabulary: MDR\n",
            "\n",
            "\n",
            "ui: C0865488\n",
            "uri: https://uts-ws.nlm.nih.gov/rest/content/2021AA/CUI/C0865488\n",
            "name: Disseminated or multiple sclerosis NOS\n",
            "Source Vocabulary: MTHICD9\n",
            "\n",
            "\n",
            "ui: C0865490\n",
            "uri: https://uts-ws.nlm.nih.gov/rest/content/2021AA/CUI/C0865490\n",
            "name: Disseminated or multiple sclerosis, cord\n",
            "Source Vocabulary: MTHICD9\n",
            "\n",
            "\n",
            "ui: C0865491\n",
            "uri: https://uts-ws.nlm.nih.gov/rest/content/2021AA/CUI/C0865491\n",
            "name: Disseminated or multiple sclerosis, generalized\n",
            "Source Vocabulary: MTHICD9\n",
            "\n",
            "\n",
            "ui: C0949030\n",
            "uri: https://uts-ws.nlm.nih.gov/rest/content/2021AA/CUI/C0949030\n",
            "name: Multiple sclerosis acute and progressive\n",
            "Source Vocabulary: MDR\n",
            "\n",
            "\n",
            "ui: C1395143\n",
            "uri: https://uts-ws.nlm.nih.gov/rest/content/2021AA/CUI/C1395143\n",
            "name: multiple sclerosis; dementia (manifestation)\n",
            "Source Vocabulary: ICPC2ICD10ENG\n",
            "\n",
            "\n",
            "ui: C1399594\n",
            "uri: https://uts-ws.nlm.nih.gov/rest/content/2021AA/CUI/C1399594\n",
            "name: sclerosis; brain, multiple\n",
            "Source Vocabulary: ICPC2ICD10ENG\n",
            "\n",
            "\n",
            "ui: C1404414\n",
            "uri: https://uts-ws.nlm.nih.gov/rest/content/2021AA/CUI/C1404414\n",
            "name: psychosis; multiple sclerosis\n",
            "Source Vocabulary: ICPC2ICD10ENG\n",
            "\n",
            "\n",
            "*********\n",
            "{'Intellectual Product', 'Finding', 'Disease or Syndrome', 'Amino Acid, Peptide, or Protein', 'Mental or Behavioral Dysfunction'}\n"
          ],
          "name": "stdout"
        }
      ]
    }
  ]
}